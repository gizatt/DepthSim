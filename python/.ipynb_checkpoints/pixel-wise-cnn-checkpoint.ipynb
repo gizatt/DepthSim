{
 "cells": [
  {
   "cell_type": "code",
   "execution_count": 1,
   "metadata": {},
   "outputs": [
    {
     "name": "stderr",
     "output_type": "stream",
     "text": [
      "/usr/local/lib/python2.7/dist-packages/h5py/__init__.py:36: FutureWarning: Conversion of the second argument of issubdtype from `float` to `np.floating` is deprecated. In future, it will be treated as `np.float64 == np.dtype(float).type`.\n",
      "  from ._conv import register_converters as _register_converters\n",
      "Using TensorFlow backend.\n"
     ]
    }
   ],
   "source": [
    "import numpy as np\n",
    "import matplotlib.pyplot as plt\n",
    "import os\n",
    "from scipy import misc\n",
    "from keras.preprocessing import image\n",
    "from keras.models import Sequential\n",
    "from keras.layers import Dense\n",
    "from keras.layers import Dropout\n",
    "from keras.layers import Flatten\n",
    "from keras.constraints import maxnorm\n",
    "from keras.optimizers import SGD\n",
    "from keras.layers.convolutional import Convolution2D\n",
    "from keras.layers.convolutional import MaxPooling2D\n",
    "from keras.layers import Activation\n",
    "from keras.layers import Reshape\n",
    "\n",
    "\n",
    "\n",
    "from keras.utils import np_utils\n",
    "from keras import backend as K\n",
    "import cv2\n",
    "from sklearn.model_selection import train_test_split\n",
    "K.set_image_dim_ordering('th')\n",
    "%matplotlib "
   ]
  },
  {
   "cell_type": "code",
   "execution_count": 250,
   "metadata": {},
   "outputs": [
    {
     "name": "stdout",
     "output_type": "stream",
     "text": [
      "Found 0 images belonging to 1 classes.\n",
      "Found 0 images belonging to 1 classes.\n"
     ]
    },
    {
     "ename": "NameError",
     "evalue": "name 'depth_generator' is not defined",
     "output_type": "error",
     "traceback": [
      "\u001b[0;31m---------------------------------------------------------------------------\u001b[0m",
      "\u001b[0;31mNameError\u001b[0m                                 Traceback (most recent call last)",
      "\u001b[0;32m<ipython-input-250-8c2d3599cab5>\u001b[0m in \u001b[0;36m<module>\u001b[0;34m()\u001b[0m\n\u001b[1;32m     55\u001b[0m \u001b[0;34m\u001b[0m\u001b[0m\n\u001b[1;32m     56\u001b[0m \u001b[0mplt\u001b[0m\u001b[0;34m.\u001b[0m\u001b[0mfigure\u001b[0m\u001b[0;34m(\u001b[0m\u001b[0;34m)\u001b[0m\u001b[0;34m\u001b[0m\u001b[0m\n\u001b[0;32m---> 57\u001b[0;31m \u001b[0mplt\u001b[0m\u001b[0;34m.\u001b[0m\u001b[0mimshow\u001b[0m\u001b[0;34m(\u001b[0m\u001b[0mnp\u001b[0m\u001b[0;34m.\u001b[0m\u001b[0mreshape\u001b[0m\u001b[0;34m(\u001b[0m\u001b[0mdepth_generator\u001b[0m\u001b[0;34m.\u001b[0m\u001b[0mnext\u001b[0m\u001b[0;34m(\u001b[0m\u001b[0;34m)\u001b[0m\u001b[0;34m[\u001b[0m\u001b[0;36m1\u001b[0m\u001b[0;34m]\u001b[0m\u001b[0;34m,\u001b[0m\u001b[0;34m(\u001b[0m\u001b[0mimg_height\u001b[0m\u001b[0;34m,\u001b[0m\u001b[0mimg_width\u001b[0m\u001b[0;34m)\u001b[0m\u001b[0;34m)\u001b[0m\u001b[0;34m)\u001b[0m\u001b[0;34m\u001b[0m\u001b[0m\n\u001b[0m\u001b[1;32m     58\u001b[0m \u001b[0mplt\u001b[0m\u001b[0;34m.\u001b[0m\u001b[0mfigure\u001b[0m\u001b[0;34m(\u001b[0m\u001b[0;34m)\u001b[0m\u001b[0;34m\u001b[0m\u001b[0m\n\u001b[1;32m     59\u001b[0m \u001b[0mplt\u001b[0m\u001b[0;34m.\u001b[0m\u001b[0mimshow\u001b[0m\u001b[0;34m(\u001b[0m\u001b[0mnp\u001b[0m\u001b[0;34m.\u001b[0m\u001b[0mreshape\u001b[0m\u001b[0;34m(\u001b[0m\u001b[0mgt_generator\u001b[0m\u001b[0;34m.\u001b[0m\u001b[0mnext\u001b[0m\u001b[0;34m(\u001b[0m\u001b[0;34m)\u001b[0m\u001b[0;34m[\u001b[0m\u001b[0;36m1\u001b[0m\u001b[0;34m]\u001b[0m\u001b[0;34m,\u001b[0m\u001b[0;34m(\u001b[0m\u001b[0mimg_height\u001b[0m\u001b[0;34m,\u001b[0m\u001b[0mimg_width\u001b[0m\u001b[0;34m)\u001b[0m\u001b[0;34m)\u001b[0m\u001b[0;34m)\u001b[0m\u001b[0;34m\u001b[0m\u001b[0m\n",
      "\u001b[0;31mNameError\u001b[0m: name 'depth_generator' is not defined"
     ]
    },
    {
     "data": {
      "text/plain": [
       "<matplotlib.figure.Figure at 0x7f6fe6658d90>"
      ]
     },
     "metadata": {},
     "output_type": "display_data"
    }
   ],
   "source": [
    "img_height, img_width = 480,640\n",
    "from keras.preprocessing import image\n",
    "from itertools import izip\n",
    "\n",
    "batch_size = 1\n",
    "def hot_vectorize(x):\n",
    "    zero_mask = x==0\n",
    "    non_zero_mask = x!=0\n",
    "    x[zero_mask] = 1\n",
    "    x[non_zero_mask] = 0\n",
    "    return x\n",
    "\n",
    "labeldatagen = image.ImageDataGenerator(\n",
    "        #preprocessing_function=applications.xception.preprocess_input,\n",
    "        #preprocessing_function = random_crop,\n",
    "        #zoom_range=.5,\n",
    "        preprocessing_function = hot_vectorize,\n",
    "        data_format=\"channels_first\")\n",
    "\n",
    "datagen = image.ImageDataGenerator(\n",
    "        #preprocessing_function=applications.xception.preprocess_input,\n",
    "        #preprocessing_function = random_crop,\n",
    "        rescale =1/500.,\n",
    "        #zoom_range=.5,\n",
    "        data_format=\"channels_first\")\n",
    "\n",
    "flow_from_directory_params = {'target_size': (img_height,img_width),\n",
    "                                  'color_mode': 'grayscale',\n",
    "                                  'class_mode': None,\n",
    "                                  'batch_size': batch_size}\n",
    "\n",
    "mask_generator = labeldatagen.flow_from_directory(\n",
    "        directory=\"/media/drc/DATA/NYU_TEST/labels/\",\n",
    "        shuffle = False,\n",
    "        **flow_from_directory_params\n",
    "    )\n",
    "'''\n",
    "rgb_generator = datagen.flow_from_directory(\n",
    "        directory=\"/media/drc/DATA/chris_labelfusion/logs_test/test_gan_sim/\",\n",
    "        **flow_from_directory_params\n",
    "    )\n",
    "normal_generator = datagen.flow_from_directory(\n",
    "        directory=\"/media/drc/DATA/chris_labelfusion/logs_test/test_gan_sim/\",\n",
    "        **flow_from_directory_params\n",
    "    )\n",
    "'''\n",
    "gt_generator = datagen.flow_from_directory(\n",
    "        directory=\"/media/drc/DATA/NYU_TEST/labels/\",\n",
    "        shuffle =False,\n",
    "        **flow_from_directory_params\n",
    "    )\n",
    "\n",
    "train_generator =  izip(gt_generator, mask_generator)\n",
    "\n",
    "\n",
    "plt.figure()\n",
    "plt.imshow(np.reshape(depth_generator.next()[1],(img_height,img_width)))\n",
    "plt.figure()\n",
    "plt.imshow(np.reshape(gt_generator.next()[1],(img_height,img_width)))"
   ]
  },
  {
   "cell_type": "code",
   "execution_count": null,
   "metadata": {},
   "outputs": [],
   "source": [
    "nputs = tf.placeholder(tf.float32, [batch_size, img_height, img_width, 1])\n",
    "logits = inference(inputs)  # your outputs of shape [batch_size, 256, 256, 33] (no final softmax !!)\n",
    "labels = tf.placeholder(tf.float32, [batch_size, img_height, img_width])  # your labels of shape [batch_size, 256, 256] and type int64\n",
    "\n",
    "loss = sparse_softmax_cross_entropy_with_logits(logits, labels)"
   ]
  },
  {
   "cell_type": "code",
   "execution_count": 26,
   "metadata": {},
   "outputs": [],
   "source": [
    "from keras.layers.convolutional import Conv2D\n",
    "from keras.layers import *\n",
    "from keras import Model\n",
    "from keras import optimizers\n",
    "from keras.callbacks import ModelCheckpoint, LearningRateScheduler\n",
    "import matplotlib.pyplot as plt\n",
    "%matplotlib nbagg"
   ]
  },
  {
   "cell_type": "code",
   "execution_count": 4,
   "metadata": {},
   "outputs": [],
   "source": [
    "train = train_generator.next()\n",
    "X = train[0]\n",
    "Y = train[1]"
   ]
  },
  {
   "cell_type": "code",
   "execution_count": 5,
   "metadata": {},
   "outputs": [],
   "source": [
    "inputs = Input((1,img_height, img_width))"
   ]
  },
  {
   "cell_type": "code",
   "execution_count": 86,
   "metadata": {},
   "outputs": [
    {
     "name": "stdout",
     "output_type": "stream",
     "text": [
      "__________________________________________________________________________________________________\n",
      "Layer (type)                    Output Shape         Param #     Connected to                     \n",
      "==================================================================================================\n",
      "input_1 (InputLayer)            (None, 1, 480, 640)  0                                            \n",
      "__________________________________________________________________________________________________\n",
      "conv2d_49 (Conv2D)              (None, 6, 480, 640)  60          input_1[0][0]                    \n",
      "__________________________________________________________________________________________________\n",
      "conv2d_50 (Conv2D)              (None, 6, 480, 640)  330         conv2d_49[0][0]                  \n",
      "__________________________________________________________________________________________________\n",
      "max_pooling2d_9 (MaxPooling2D)  (None, 6, 240, 320)  0           conv2d_50[0][0]                  \n",
      "__________________________________________________________________________________________________\n",
      "conv2d_51 (Conv2D)              (None, 12, 240, 320) 660         max_pooling2d_9[0][0]            \n",
      "__________________________________________________________________________________________________\n",
      "conv2d_52 (Conv2D)              (None, 12, 240, 320) 1308        conv2d_51[0][0]                  \n",
      "__________________________________________________________________________________________________\n",
      "max_pooling2d_10 (MaxPooling2D) (None, 12, 120, 160) 0           conv2d_52[0][0]                  \n",
      "__________________________________________________________________________________________________\n",
      "conv2d_53 (Conv2D)              (None, 24, 120, 160) 2616        max_pooling2d_10[0][0]           \n",
      "__________________________________________________________________________________________________\n",
      "conv2d_54 (Conv2D)              (None, 24, 120, 160) 5208        conv2d_53[0][0]                  \n",
      "__________________________________________________________________________________________________\n",
      "max_pooling2d_11 (MaxPooling2D) (None, 24, 60, 80)   0           conv2d_54[0][0]                  \n",
      "__________________________________________________________________________________________________\n",
      "conv2d_55 (Conv2D)              (None, 48, 60, 80)   10416       max_pooling2d_11[0][0]           \n",
      "__________________________________________________________________________________________________\n",
      "conv2d_56 (Conv2D)              (None, 48, 60, 80)   20784       conv2d_55[0][0]                  \n",
      "__________________________________________________________________________________________________\n",
      "dropout_5 (Dropout)             (None, 48, 60, 80)   0           conv2d_56[0][0]                  \n",
      "__________________________________________________________________________________________________\n",
      "max_pooling2d_12 (MaxPooling2D) (None, 48, 30, 40)   0           dropout_5[0][0]                  \n",
      "__________________________________________________________________________________________________\n",
      "conv2d_57 (Conv2D)              (None, 96, 30, 40)   41568       max_pooling2d_12[0][0]           \n",
      "__________________________________________________________________________________________________\n",
      "conv2d_58 (Conv2D)              (None, 96, 30, 40)   83040       conv2d_57[0][0]                  \n",
      "__________________________________________________________________________________________________\n",
      "dropout_6 (Dropout)             (None, 96, 30, 40)   0           conv2d_58[0][0]                  \n",
      "__________________________________________________________________________________________________\n",
      "up_sampling2d_9 (UpSampling2D)  (None, 96, 60, 80)   0           dropout_6[0][0]                  \n",
      "__________________________________________________________________________________________________\n",
      "conv2d_59 (Conv2D)              (None, 48, 60, 80)   18480       up_sampling2d_9[0][0]            \n",
      "__________________________________________________________________________________________________\n",
      "merge_9 (Merge)                 (None, 48, 60, 80)   0           dropout_5[0][0]                  \n",
      "                                                                 conv2d_59[0][0]                  \n",
      "__________________________________________________________________________________________________\n",
      "conv2d_60 (Conv2D)              (None, 48, 60, 80)   20784       merge_9[0][0]                    \n",
      "__________________________________________________________________________________________________\n",
      "conv2d_61 (Conv2D)              (None, 48, 60, 80)   20784       conv2d_60[0][0]                  \n",
      "__________________________________________________________________________________________________\n",
      "up_sampling2d_10 (UpSampling2D) (None, 48, 120, 160) 0           conv2d_61[0][0]                  \n",
      "__________________________________________________________________________________________________\n",
      "conv2d_62 (Conv2D)              (None, 24, 120, 160) 4632        up_sampling2d_10[0][0]           \n",
      "__________________________________________________________________________________________________\n",
      "merge_10 (Merge)                (None, 24, 120, 160) 0           conv2d_54[0][0]                  \n",
      "                                                                 conv2d_62[0][0]                  \n",
      "__________________________________________________________________________________________________\n",
      "conv2d_63 (Conv2D)              (None, 24, 120, 160) 5208        merge_10[0][0]                   \n",
      "__________________________________________________________________________________________________\n",
      "conv2d_64 (Conv2D)              (None, 24, 120, 160) 5208        conv2d_63[0][0]                  \n",
      "__________________________________________________________________________________________________\n",
      "up_sampling2d_11 (UpSampling2D) (None, 24, 240, 320) 0           conv2d_64[0][0]                  \n",
      "__________________________________________________________________________________________________\n",
      "conv2d_65 (Conv2D)              (None, 12, 240, 320) 1164        up_sampling2d_11[0][0]           \n",
      "__________________________________________________________________________________________________\n",
      "merge_11 (Merge)                (None, 12, 240, 320) 0           conv2d_52[0][0]                  \n",
      "                                                                 conv2d_65[0][0]                  \n",
      "__________________________________________________________________________________________________\n",
      "conv2d_66 (Conv2D)              (None, 12, 240, 320) 1308        merge_11[0][0]                   \n",
      "__________________________________________________________________________________________________\n",
      "conv2d_67 (Conv2D)              (None, 12, 240, 320) 1308        conv2d_66[0][0]                  \n",
      "__________________________________________________________________________________________________\n",
      "up_sampling2d_12 (UpSampling2D) (None, 12, 480, 640) 0           conv2d_67[0][0]                  \n",
      "__________________________________________________________________________________________________\n",
      "conv2d_68 (Conv2D)              (None, 6, 480, 640)  294         up_sampling2d_12[0][0]           \n",
      "__________________________________________________________________________________________________\n",
      "merge_12 (Merge)                (None, 6, 480, 640)  0           conv2d_50[0][0]                  \n",
      "                                                                 conv2d_68[0][0]                  \n",
      "__________________________________________________________________________________________________\n",
      "conv2d_69 (Conv2D)              (None, 6, 480, 640)  330         merge_12[0][0]                   \n",
      "__________________________________________________________________________________________________\n",
      "conv2d_70 (Conv2D)              (None, 6, 480, 640)  330         conv2d_69[0][0]                  \n",
      "__________________________________________________________________________________________________\n",
      "conv2d_71 (Conv2D)              (None, 2, 480, 640)  110         conv2d_70[0][0]                  \n",
      "__________________________________________________________________________________________________\n",
      "conv2d_72 (Conv2D)              (None, 1, 480, 640)  3           conv2d_71[0][0]                  \n",
      "==================================================================================================\n",
      "Total params: 245,933\n",
      "Trainable params: 245,933\n",
      "Non-trainable params: 0\n",
      "__________________________________________________________________________________________________\n",
      "None\n"
     ]
    },
    {
     "name": "stderr",
     "output_type": "stream",
     "text": [
      "/usr/local/lib/python2.7/dist-packages/ipykernel_launcher.py:23: UserWarning: The `merge` function is deprecated and will be removed after 08/2017. Use instead layers from `keras.layers.merge`, e.g. `add`, `concatenate`, etc.\n",
      "/usr/local/lib/python2.7/dist-packages/ipykernel_launcher.py:28: UserWarning: The `merge` function is deprecated and will be removed after 08/2017. Use instead layers from `keras.layers.merge`, e.g. `add`, `concatenate`, etc.\n",
      "/usr/local/lib/python2.7/dist-packages/ipykernel_launcher.py:33: UserWarning: The `merge` function is deprecated and will be removed after 08/2017. Use instead layers from `keras.layers.merge`, e.g. `add`, `concatenate`, etc.\n",
      "/usr/local/lib/python2.7/dist-packages/ipykernel_launcher.py:38: UserWarning: The `merge` function is deprecated and will be removed after 08/2017. Use instead layers from `keras.layers.merge`, e.g. `add`, `concatenate`, etc.\n",
      "/usr/local/lib/python2.7/dist-packages/ipykernel_launcher.py:44: UserWarning: Update your `Model` call to the Keras 2 API: `Model(outputs=Tensor(\"co..., inputs=Tensor(\"in...)`\n"
     ]
    }
   ],
   "source": [
    "conv1 = Conv2D(6, 3, activation = 'relu', padding = 'same', kernel_initializer = 'he_normal',data_format='channels_first')(inputs)\n",
    "conv1 = Conv2D(6, 3, activation = 'relu', padding = 'same', kernel_initializer = 'he_normal',data_format='channels_first')(conv1)\n",
    "pool1 = MaxPooling2D(pool_size=(2, 2),data_format='channels_first')(conv1)\n",
    "\n",
    "conv2 = Conv2D(12, 3, activation = 'relu', padding = 'same', kernel_initializer = 'he_normal',data_format='channels_first')(pool1)\n",
    "conv2 = Conv2D(12, 3, activation = 'relu', padding = 'same', kernel_initializer = 'he_normal',data_format='channels_first')(conv2)\n",
    "pool2 = MaxPooling2D(pool_size=(2, 2),data_format='channels_first')(conv2)\n",
    "\n",
    "conv3 = Conv2D(24, 3, activation = 'relu', padding = 'same', kernel_initializer = 'he_normal',data_format='channels_first')(pool2)\n",
    "conv3 = Conv2D(24, 3, activation = 'relu', padding = 'same', kernel_initializer = 'he_normal',data_format='channels_first')(conv3)\n",
    "pool3 = MaxPooling2D(pool_size=(2, 2),data_format='channels_first')(conv3)\n",
    "\n",
    "conv4 = Conv2D(48, 3, activation = 'relu', padding = 'same', kernel_initializer = 'he_normal',data_format='channels_first')(pool3)\n",
    "conv4 = Conv2D(48, 3, activation = 'relu', padding = 'same', kernel_initializer = 'he_normal',data_format='channels_first')(conv4)\n",
    "drop4 = Dropout(0.5)(conv4)\n",
    "pool4 = MaxPooling2D(pool_size=(2, 2),data_format='channels_first')(drop4)\n",
    "\n",
    "conv5 = Conv2D(96, 3, activation = 'relu', padding = 'same', kernel_initializer = 'he_normal',data_format='channels_first')(pool4)\n",
    "conv5 = Conv2D(96, 3, activation = 'relu', padding = 'same', kernel_initializer = 'he_normal',data_format='channels_first')(conv5)\n",
    "drop5 = Dropout(0.5)(conv5)\n",
    "\n",
    "up6 = Conv2D(48, 2, activation = 'relu', padding = 'same', kernel_initializer = 'he_normal',data_format='channels_first')(UpSampling2D(size = (2,2))(drop5))\n",
    "merge6 = merge([drop4,up6], mode = 'concat', concat_axis = 0)\n",
    "conv6 = Conv2D(48, 3, activation = 'relu', padding = 'same', kernel_initializer = 'he_normal',data_format='channels_first')(merge6)\n",
    "conv6 = Conv2D(48, 3, activation = 'relu', padding = 'same', kernel_initializer = 'he_normal',data_format='channels_first')(conv6)\n",
    "\n",
    "up7 = Conv2D(24, 2, activation = 'relu', padding = 'same', kernel_initializer = 'he_normal',data_format='channels_first')(UpSampling2D(size = (2,2))(conv6))\n",
    "merge7 = merge([conv3,up7], mode = 'concat', concat_axis = 0)\n",
    "conv7 = Conv2D(24, 3, activation = 'relu', padding = 'same', kernel_initializer = 'he_normal',data_format='channels_first')(merge7)\n",
    "conv7 = Conv2D(24, 3, activation = 'relu', padding = 'same', kernel_initializer = 'he_normal',data_format='channels_first')(conv7)\n",
    "\n",
    "up8 = Conv2D(12, 2, activation = 'relu', padding = 'same', kernel_initializer = 'he_normal',data_format='channels_first')(UpSampling2D(size = (2,2))(conv7))\n",
    "merge8 = merge([conv2,up8], mode = 'concat', concat_axis = 0)\n",
    "conv8 = Conv2D(12, 3, activation = 'relu', padding = 'same', kernel_initializer = 'he_normal',data_format='channels_first')(merge8)\n",
    "conv8 = Conv2D(12, 3, activation = 'relu', padding = 'same', kernel_initializer = 'he_normal',data_format='channels_first')(conv8)\n",
    "\n",
    "up9 = Conv2D(6, 2, activation = 'relu', padding = 'same', kernel_initializer = 'he_normal',data_format='channels_first')(UpSampling2D(size = (2,2))(conv8))\n",
    "merge9 = merge([conv1,up9], mode = 'concat', concat_axis = 0)\n",
    "conv9 = Conv2D(6, 3, activation = 'relu', padding = 'same', kernel_initializer = 'he_normal',data_format='channels_first')(merge9)\n",
    "conv9 = Conv2D(6, 3, activation = 'relu', padding = 'same', kernel_initializer = 'he_normal',data_format='channels_first')(conv9)\n",
    "conv9 = Conv2D(2, 3, activation = 'relu', padding = 'same', kernel_initializer = 'he_normal',data_format='channels_first')(conv9)\n",
    "conv10 = Conv2D(1, 1, activation = 'sigmoid',data_format='channels_first')(conv9)\n",
    "\n",
    "model = Model(input = inputs, output = conv10)\n",
    "print model.summary()\n",
    "model.compile(optimizer = optimizers.Adam(lr = 1e-4), loss = 'binary_crossentropy', metrics = ['accuracy'])"
   ]
  },
  {
   "cell_type": "code",
   "execution_count": 200,
   "metadata": {},
   "outputs": [
    {
     "name": "stdout",
     "output_type": "stream",
     "text": [
      "Fitting model...\n",
      "Epoch 1/100\n",
      "\r",
      "  1/100 [..............................] - ETA: 12s - loss: 0.6294 - acc: 0.8340"
     ]
    },
    {
     "name": "stderr",
     "output_type": "stream",
     "text": [
      "/usr/local/lib/python2.7/dist-packages/ipykernel_launcher.py:3: UserWarning: The semantics of the Keras 2 argument `steps_per_epoch` is not the same as the Keras 1 argument `samples_per_epoch`. `steps_per_epoch` is the number of batches to draw from the generator at each epoch. Basically steps_per_epoch = samples_per_epoch/batch_size. Similarly `nb_val_samples`->`validation_steps` and `val_samples`->`steps` arguments have changed. Update your method calls accordingly.\n",
      "  This is separate from the ipykernel package so we can avoid doing imports until\n",
      "/usr/local/lib/python2.7/dist-packages/ipykernel_launcher.py:3: UserWarning: Update your `fit_generator` call to the Keras 2 API: `fit_generator(<itertools..., shuffle=True, verbose=1, steps_per_epoch=100, epochs=100, callbacks=[<keras.ca...)`\n",
      "  This is separate from the ipykernel package so we can avoid doing imports until\n"
     ]
    },
    {
     "name": "stdout",
     "output_type": "stream",
     "text": [
      " 99/100 [============================>.] - ETA: 0s - loss: 0.4940 - acc: 0.8345\n",
      "Epoch 00001: loss improved from inf to 0.49316, saving model to unet.hdf5\n",
      "100/100 [==============================] - 10s 99ms/step - loss: 0.4932 - acc: 0.8345\n",
      "Epoch 2/100\n",
      " 99/100 [============================>.] - ETA: 0s - loss: 0.3673 - acc: 0.8348\n",
      "Epoch 00002: loss improved from 0.49316 to 0.36703, saving model to unet.hdf5\n",
      "100/100 [==============================] - 10s 98ms/step - loss: 0.3670 - acc: 0.8348\n",
      "Epoch 3/100\n",
      " 99/100 [============================>.] - ETA: 0s - loss: 0.3381 - acc: 0.8297\n",
      "Epoch 00003: loss improved from 0.36703 to 0.33813, saving model to unet.hdf5\n",
      "100/100 [==============================] - 10s 98ms/step - loss: 0.3381 - acc: 0.8297\n",
      "Epoch 4/100\n",
      " 99/100 [============================>.] - ETA: 0s - loss: 0.3444 - acc: 0.8221\n",
      "Epoch 00004: loss did not improve\n",
      "100/100 [==============================] - 10s 97ms/step - loss: 0.3444 - acc: 0.8220\n",
      "Epoch 5/100\n",
      " 99/100 [============================>.] - ETA: 0s - loss: 0.3291 - acc: 0.8236\n",
      "Epoch 00005: loss improved from 0.33813 to 0.32898, saving model to unet.hdf5\n",
      "100/100 [==============================] - 10s 99ms/step - loss: 0.3290 - acc: 0.8236\n",
      "Epoch 6/100\n",
      " 99/100 [============================>.] - ETA: 0s - loss: 0.3376 - acc: 0.8386\n",
      "Epoch 00006: loss did not improve\n",
      "100/100 [==============================] - 10s 98ms/step - loss: 0.3377 - acc: 0.8390\n",
      "Epoch 7/100\n",
      " 99/100 [============================>.] - ETA: 0s - loss: 0.3370 - acc: 0.8871\n",
      "Epoch 00007: loss did not improve\n",
      "100/100 [==============================] - 10s 98ms/step - loss: 0.3368 - acc: 0.8872\n",
      "Epoch 8/100\n",
      " 99/100 [============================>.] - ETA: 0s - loss: 0.3217 - acc: 0.8955\n",
      "Epoch 00008: loss improved from 0.32898 to 0.32172, saving model to unet.hdf5\n",
      "100/100 [==============================] - 10s 99ms/step - loss: 0.3217 - acc: 0.8955\n",
      "Epoch 9/100\n",
      " 99/100 [============================>.] - ETA: 0s - loss: 0.3146 - acc: 0.8981\n",
      "Epoch 00009: loss improved from 0.32172 to 0.31451, saving model to unet.hdf5\n",
      "100/100 [==============================] - 10s 99ms/step - loss: 0.3145 - acc: 0.8982\n",
      "Epoch 10/100\n",
      " 99/100 [============================>.] - ETA: 0s - loss: 0.3043 - acc: 0.9019\n",
      "Epoch 00010: loss improved from 0.31451 to 0.30414, saving model to unet.hdf5\n",
      "100/100 [==============================] - 10s 99ms/step - loss: 0.3041 - acc: 0.9020\n",
      "Epoch 11/100\n",
      " 99/100 [============================>.] - ETA: 0s - loss: 0.2884 - acc: 0.9066- ETA: 0s - loss: 0.2885 - acc: 0.9\n",
      "Epoch 00011: loss improved from 0.30414 to 0.28832, saving model to unet.hdf5\n",
      "100/100 [==============================] - 10s 101ms/step - loss: 0.2883 - acc: 0.9066\n",
      "Epoch 12/100\n",
      " 99/100 [============================>.] - ETA: 0s - loss: 0.2954 - acc: 0.9050- ETA: 1s - loss: 0.2905 - acc: 0.9 - ETA: 1s - loss: 0.2915 - \n",
      "Epoch 00012: loss did not improve\n",
      "100/100 [==============================] - 10s 99ms/step - loss: 0.2957 - acc: 0.9049\n",
      "Epoch 13/100\n",
      " 99/100 [============================>.] - ETA: 0s - loss: 0.3254 - acc: 0.8868- ETA: 8s - loss: 0.329 - ET\n",
      "Epoch 00013: loss did not improve\n",
      "100/100 [==============================] - 10s 99ms/step - loss: 0.3253 - acc: 0.8868\n",
      "Epoch 14/100\n",
      " 99/100 [============================>.] - ETA: 0s - loss: 0.3177 - acc: 0.8904\n",
      "Epoch 00014: loss did not improve\n",
      "100/100 [==============================] - 10s 100ms/step - loss: 0.3175 - acc: 0.8905\n",
      "Epoch 15/100\n",
      " 99/100 [============================>.] - ETA: 0s - loss: 0.2872 - acc: 0.9070\n",
      "Epoch 00015: loss improved from 0.28832 to 0.28727, saving model to unet.hdf5\n",
      "100/100 [==============================] - 10s 102ms/step - loss: 0.2873 - acc: 0.9070\n",
      "Epoch 16/100\n",
      " 99/100 [============================>.] - ETA: 0s - loss: 0.2900 - acc: 0.9069- ETA: 2s - loss:\n",
      "Epoch 00016: loss did not improve\n",
      "100/100 [==============================] - 10s 99ms/step - loss: 0.2901 - acc: 0.9068\n",
      "Epoch 17/100\n",
      " 99/100 [============================>.] - ETA: 0s - loss: 0.3056 - acc: 0.9010\n",
      "Epoch 00017: loss did not improve\n",
      "100/100 [==============================] - 10s 99ms/step - loss: 0.3056 - acc: 0.9010\n",
      "Epoch 18/100\n",
      " 99/100 [============================>.] - ETA: 0s - loss: 0.3074 - acc: 0.9004\n",
      "Epoch 00018: loss did not improve\n",
      "100/100 [==============================] - 10s 99ms/step - loss: 0.3075 - acc: 0.9004\n",
      "Epoch 19/100\n",
      " 99/100 [============================>.] - ETA: 0s - loss: 0.3398 - acc: 0.8804\n",
      "Epoch 00019: loss did not improve\n",
      "100/100 [==============================] - 10s 100ms/step - loss: 0.3398 - acc: 0.8803\n",
      "Epoch 20/100\n",
      " 99/100 [============================>.] - ETA: 0s - loss: 0.3429 - acc: 0.8763\n",
      "Epoch 00020: loss did not improve\n",
      "100/100 [==============================] - 10s 100ms/step - loss: 0.3427 - acc: 0.8765\n",
      "Epoch 21/100\n",
      " 99/100 [============================>.] - ETA: 0s - loss: 0.3227 - acc: 0.8922\n",
      "Epoch 00021: loss did not improve\n",
      "100/100 [==============================] - 10s 100ms/step - loss: 0.3227 - acc: 0.8922\n",
      "Epoch 22/100\n",
      " 99/100 [============================>.] - ETA: 0s - loss: 0.3171 - acc: 0.8935\n",
      "Epoch 00022: loss did not improve\n",
      "100/100 [==============================] - 10s 100ms/step - loss: 0.3172 - acc: 0.8935\n",
      "Epoch 23/100\n",
      " 99/100 [============================>.] - ETA: 0s - loss: 0.3211 - acc: 0.8904\n",
      "Epoch 00023: loss did not improve\n",
      "100/100 [==============================] - 10s 99ms/step - loss: 0.3212 - acc: 0.8904\n",
      "Epoch 24/100\n",
      " 99/100 [============================>.] - ETA: 0s - loss: 0.3266 - acc: 0.8865\n",
      "Epoch 00024: loss did not improve\n",
      "100/100 [==============================] - 10s 98ms/step - loss: 0.3264 - acc: 0.8866\n",
      "Epoch 25/100\n",
      " 99/100 [============================>.] - ETA: 0s - loss: 0.3040 - acc: 0.8977\n",
      "Epoch 00025: loss did not improve\n",
      "100/100 [==============================] - 10s 98ms/step - loss: 0.3038 - acc: 0.8978\n",
      "Epoch 26/100\n",
      " 99/100 [============================>.] - ETA: 0s - loss: 0.2803 - acc: 0.9092\n",
      "Epoch 00026: loss improved from 0.28727 to 0.28022, saving model to unet.hdf5\n",
      "100/100 [==============================] - 10s 100ms/step - loss: 0.2802 - acc: 0.9092\n",
      "Epoch 27/100\n",
      " 99/100 [============================>.] - ETA: 0s - loss: 0.2808 - acc: 0.9097\n",
      "Epoch 00027: loss did not improve\n",
      "100/100 [==============================] - 10s 98ms/step - loss: 0.2809 - acc: 0.9096\n",
      "Epoch 28/100\n",
      " 99/100 [============================>.] - ETA: 0s - loss: 0.3107 - acc: 0.8990\n",
      "Epoch 00028: loss did not improve\n",
      "100/100 [==============================] - 10s 99ms/step - loss: 0.3107 - acc: 0.8990\n",
      "Epoch 29/100\n",
      " 99/100 [============================>.] - ETA: 0s - loss: 0.3047 - acc: 0.9000\n",
      "Epoch 00029: loss did not improve\n",
      "100/100 [==============================] - 10s 98ms/step - loss: 0.3047 - acc: 0.8999\n",
      "Epoch 30/100\n",
      " 99/100 [============================>.] - ETA: 0s - loss: 0.3036 - acc: 0.8998\n",
      "Epoch 00030: loss did not improve\n",
      "100/100 [==============================] - 10s 99ms/step - loss: 0.3035 - acc: 0.8999\n",
      "Epoch 31/100\n",
      " 99/100 [============================>.] - ETA: 0s - loss: 0.2954 - acc: 0.9029\n",
      "Epoch 00031: loss did not improve\n",
      "100/100 [==============================] - 10s 98ms/step - loss: 0.2954 - acc: 0.9030\n",
      "Epoch 32/100\n",
      " 99/100 [============================>.] - ETA: 0s - loss: 0.2859 - acc: 0.9065\n",
      "Epoch 00032: loss did not improve\n",
      "100/100 [==============================] - 10s 99ms/step - loss: 0.2858 - acc: 0.9065\n",
      "Epoch 33/100\n",
      " 99/100 [============================>.] - ETA: 0s - loss: 0.2804 - acc: 0.9070\n",
      "Epoch 00033: loss did not improve\n",
      "100/100 [==============================] - 10s 104ms/step - loss: 0.2805 - acc: 0.9070\n",
      "Epoch 34/100\n",
      " 99/100 [============================>.] - ETA: 0s - loss: 0.3039 - acc: 0.8958\n",
      "Epoch 00034: loss did not improve\n",
      "100/100 [==============================] - 10s 99ms/step - loss: 0.3038 - acc: 0.8959\n",
      "Epoch 35/100\n",
      " 99/100 [============================>.] - ETA: 0s - loss: 0.2940 - acc: 0.9013\n",
      "Epoch 00035: loss did not improve\n",
      "100/100 [==============================] - 10s 99ms/step - loss: 0.2942 - acc: 0.9012\n",
      "Epoch 36/100\n",
      " 99/100 [============================>.] - ETA: 0s - loss: 0.3210 - acc: 0.8935- ETA: 3\n",
      "Epoch 00036: loss did not improve\n",
      "100/100 [==============================] - 10s 99ms/step - loss: 0.3211 - acc: 0.8935\n"
     ]
    },
    {
     "name": "stdout",
     "output_type": "stream",
     "text": [
      "Epoch 37/100\n",
      " 99/100 [============================>.] - ETA: 0s - loss: 0.3218 - acc: 0.8912\n",
      "Epoch 00037: loss did not improve\n",
      "100/100 [==============================] - 10s 98ms/step - loss: 0.3219 - acc: 0.8912\n",
      "Epoch 38/100\n",
      " 99/100 [============================>.] - ETA: 0s - loss: 0.3222 - acc: 0.8876\n",
      "Epoch 00038: loss did not improve\n",
      "100/100 [==============================] - 10s 98ms/step - loss: 0.3221 - acc: 0.8876\n",
      "Epoch 39/100\n",
      " 99/100 [============================>.] - ETA: 0s - loss: 0.3131 - acc: 0.8904\n",
      "Epoch 00039: loss did not improve\n",
      "100/100 [==============================] - 10s 99ms/step - loss: 0.3131 - acc: 0.8904\n",
      "Epoch 40/100\n",
      " 99/100 [============================>.] - ETA: 0s - loss: 0.2900 - acc: 0.9030\n",
      "Epoch 00040: loss did not improve\n",
      "100/100 [==============================] - 10s 98ms/step - loss: 0.2896 - acc: 0.9032\n",
      "Epoch 41/100\n",
      " 99/100 [============================>.] - ETA: 0s - loss: 0.2475 - acc: 0.9224\n",
      "Epoch 00041: loss improved from 0.28022 to 0.24749, saving model to unet.hdf5\n",
      "100/100 [==============================] - 10s 98ms/step - loss: 0.2475 - acc: 0.9224\n",
      "Epoch 42/100\n",
      " 99/100 [============================>.] - ETA: 0s - loss: 0.2616 - acc: 0.9171\n",
      "Epoch 00042: loss did not improve\n",
      "100/100 [==============================] - 10s 97ms/step - loss: 0.2615 - acc: 0.9171\n",
      "Epoch 43/100\n",
      " 99/100 [============================>.] - ETA: 0s - loss: 0.2685 - acc: 0.9138\n",
      "Epoch 00043: loss did not improve\n",
      "100/100 [==============================] - 10s 98ms/step - loss: 0.2686 - acc: 0.9138\n",
      "Epoch 44/100\n",
      " 99/100 [============================>.] - ETA: 0s - loss: 0.2849 - acc: 0.9063\n",
      "Epoch 00044: loss did not improve\n",
      "100/100 [==============================] - 10s 98ms/step - loss: 0.2849 - acc: 0.9062\n",
      "Epoch 45/100\n",
      " 99/100 [============================>.] - ETA: 0s - loss: 0.2702 - acc: 0.9119\n",
      "Epoch 00045: loss did not improve\n",
      "100/100 [==============================] - 10s 98ms/step - loss: 0.2702 - acc: 0.9119\n",
      "Epoch 46/100\n",
      " 99/100 [============================>.] - ETA: 0s - loss: 0.2891 - acc: 0.9035\n",
      "Epoch 00046: loss did not improve\n",
      "100/100 [==============================] - 10s 98ms/step - loss: 0.2891 - acc: 0.9035\n",
      "Epoch 47/100\n",
      " 99/100 [============================>.] - ETA: 0s - loss: 0.2814 - acc: 0.9076\n",
      "Epoch 00047: loss did not improve\n",
      "100/100 [==============================] - 10s 98ms/step - loss: 0.2813 - acc: 0.9076\n",
      "Epoch 48/100\n",
      " 99/100 [============================>.] - ETA: 0s - loss: 0.2668 - acc: 0.9151\n",
      "Epoch 00048: loss did not improve\n",
      "100/100 [==============================] - 10s 98ms/step - loss: 0.2669 - acc: 0.9151\n",
      "Epoch 49/100\n",
      " 99/100 [============================>.] - ETA: 0s - loss: 0.2601 - acc: 0.9172\n",
      "Epoch 00049: loss did not improve\n",
      "100/100 [==============================] - 10s 98ms/step - loss: 0.2602 - acc: 0.9171\n",
      "Epoch 50/100\n",
      " 99/100 [============================>.] - ETA: 0s - loss: 0.2509 - acc: 0.9196\n",
      "Epoch 00050: loss did not improve\n",
      "100/100 [==============================] - 10s 98ms/step - loss: 0.2509 - acc: 0.9196\n",
      "Epoch 51/100\n",
      " 99/100 [============================>.] - ETA: 0s - loss: 0.2415 - acc: 0.9237\n",
      "Epoch 00051: loss improved from 0.24749 to 0.24142, saving model to unet.hdf5\n",
      "100/100 [==============================] - 10s 99ms/step - loss: 0.2414 - acc: 0.9237\n",
      "Epoch 52/100\n",
      " 99/100 [============================>.] - ETA: 0s - loss: 0.2658 - acc: 0.9135\n",
      "Epoch 00052: loss did not improve\n",
      "100/100 [==============================] - 10s 99ms/step - loss: 0.2661 - acc: 0.9133\n",
      "Epoch 53/100\n",
      " 99/100 [============================>.] - ETA: 0s - loss: 0.2817 - acc: 0.9048\n",
      "Epoch 00053: loss did not improve\n",
      "100/100 [==============================] - 10s 98ms/step - loss: 0.2818 - acc: 0.9047\n",
      "Epoch 54/100\n",
      " 99/100 [============================>.] - ETA: 0s - loss: 0.2703 - acc: 0.9102\n",
      "Epoch 00054: loss did not improve\n",
      "100/100 [==============================] - 10s 98ms/step - loss: 0.2701 - acc: 0.9103\n",
      "Epoch 55/100\n",
      " 99/100 [============================>.] - ETA: 0s - loss: 0.2528 - acc: 0.9193\n",
      "Epoch 00055: loss did not improve\n",
      "100/100 [==============================] - 10s 98ms/step - loss: 0.2528 - acc: 0.9193\n",
      "Epoch 56/100\n",
      " 99/100 [============================>.] - ETA: 0s - loss: 0.2553 - acc: 0.9171\n",
      "Epoch 00056: loss did not improve\n",
      "100/100 [==============================] - 10s 98ms/step - loss: 0.2554 - acc: 0.9171\n",
      "Epoch 57/100\n",
      " 99/100 [============================>.] - ETA: 0s - loss: 0.2676 - acc: 0.9119\n",
      "Epoch 00057: loss did not improve\n",
      "100/100 [==============================] - 10s 98ms/step - loss: 0.2676 - acc: 0.9119\n",
      "Epoch 58/100\n",
      " 99/100 [============================>.] - ETA: 0s - loss: 0.2771 - acc: 0.9078\n",
      "Epoch 00058: loss did not improve\n",
      "100/100 [==============================] - 10s 98ms/step - loss: 0.2772 - acc: 0.9077\n",
      "Epoch 59/100\n",
      " 99/100 [============================>.] - ETA: 0s - loss: 0.3057 - acc: 0.8896\n",
      "Epoch 00059: loss did not improve\n",
      "100/100 [==============================] - 10s 98ms/step - loss: 0.3058 - acc: 0.8895\n",
      "Epoch 60/100\n",
      " 99/100 [============================>.] - ETA: 0s - loss: 0.3024 - acc: 0.8955\n",
      "Epoch 00060: loss did not improve\n",
      "100/100 [==============================] - 10s 98ms/step - loss: 0.3023 - acc: 0.8956\n",
      "Epoch 61/100\n",
      " 99/100 [============================>.] - ETA: 0s - loss: 0.2898 - acc: 0.9047\n",
      "Epoch 00061: loss did not improve\n",
      "100/100 [==============================] - 10s 98ms/step - loss: 0.2898 - acc: 0.9047\n",
      "Epoch 62/100\n",
      " 99/100 [============================>.] - ETA: 0s - loss: 0.2852 - acc: 0.9049\n",
      "Epoch 00062: loss did not improve\n",
      "100/100 [==============================] - 10s 99ms/step - loss: 0.2853 - acc: 0.9048\n",
      "Epoch 63/100\n",
      " 99/100 [============================>.] - ETA: 0s - loss: 0.2880 - acc: 0.9010\n",
      "Epoch 00063: loss did not improve\n",
      "100/100 [==============================] - 10s 98ms/step - loss: 0.2880 - acc: 0.9010\n",
      "Epoch 64/100\n",
      " 99/100 [============================>.] - ETA: 0s - loss: 0.2906 - acc: 0.8994\n",
      "Epoch 00064: loss did not improve\n",
      "100/100 [==============================] - 10s 99ms/step - loss: 0.2906 - acc: 0.8994\n",
      "Epoch 65/100\n",
      " 99/100 [============================>.] - ETA: 0s - loss: 0.2690 - acc: 0.9102\n",
      "Epoch 00065: loss did not improve\n",
      "100/100 [==============================] - 10s 98ms/step - loss: 0.2688 - acc: 0.9103\n",
      "Epoch 66/100\n",
      " 99/100 [============================>.] - ETA: 0s - loss: 0.2519 - acc: 0.9183\n",
      "Epoch 00066: loss did not improve\n",
      "100/100 [==============================] - 10s 98ms/step - loss: 0.2519 - acc: 0.9183\n",
      "Epoch 67/100\n",
      " 99/100 [============================>.] - ETA: 0s - loss: 0.2599 - acc: 0.9139\n",
      "Epoch 00067: loss did not improve\n",
      "100/100 [==============================] - 10s 98ms/step - loss: 0.2601 - acc: 0.9138\n",
      "Epoch 68/100\n",
      " 99/100 [============================>.] - ETA: 0s - loss: 0.2810 - acc: 0.9053\n",
      "Epoch 00068: loss did not improve\n",
      "100/100 [==============================] - 10s 98ms/step - loss: 0.2810 - acc: 0.9053\n",
      "Epoch 69/100\n",
      " 99/100 [============================>.] - ETA: 0s - loss: 0.2744 - acc: 0.9074\n",
      "Epoch 00069: loss did not improve\n",
      "100/100 [==============================] - 10s 99ms/step - loss: 0.2744 - acc: 0.9074\n",
      "Epoch 70/100\n",
      " 99/100 [============================>.] - ETA: 0s - loss: 0.2755 - acc: 0.9080\n",
      "Epoch 00070: loss did not improve\n",
      "100/100 [==============================] - 10s 98ms/step - loss: 0.2755 - acc: 0.9081\n",
      "Epoch 71/100\n",
      " 99/100 [============================>.] - ETA: 0s - loss: 0.2646 - acc: 0.9123\n",
      "Epoch 00071: loss did not improve\n",
      "100/100 [==============================] - 10s 98ms/step - loss: 0.2646 - acc: 0.9123\n",
      "Epoch 72/100\n",
      " 99/100 [============================>.] - ETA: 0s - loss: 0.2554 - acc: 0.9166\n",
      "Epoch 00072: loss did not improve\n",
      "100/100 [==============================] - 10s 98ms/step - loss: 0.2553 - acc: 0.9166\n",
      "Epoch 73/100\n",
      " 99/100 [============================>.] - ETA: 0s - loss: 0.2584 - acc: 0.9133\n",
      "Epoch 00073: loss did not improve\n",
      "100/100 [==============================] - 10s 98ms/step - loss: 0.2586 - acc: 0.9132\n",
      "Epoch 74/100\n",
      " 99/100 [============================>.] - ETA: 0s - loss: 0.2780 - acc: 0.9061- ETA: 0s - loss: 0.2791 - ac\n",
      "Epoch 00074: loss did not improve\n",
      "100/100 [==============================] - 10s 98ms/step - loss: 0.2779 - acc: 0.9062\n"
     ]
    },
    {
     "name": "stdout",
     "output_type": "stream",
     "text": [
      "Epoch 75/100\n",
      " 99/100 [============================>.] - ETA: 0s - loss: 0.2774 - acc: 0.9066\n",
      "Epoch 00075: loss did not improve\n",
      "100/100 [==============================] - 10s 98ms/step - loss: 0.2777 - acc: 0.9064\n",
      "Epoch 76/100\n",
      " 99/100 [============================>.] - ETA: 0s - loss: 0.2994 - acc: 0.8992\n",
      "Epoch 00076: loss did not improve\n",
      "100/100 [==============================] - 10s 98ms/step - loss: 0.2994 - acc: 0.8992\n",
      "Epoch 77/100\n",
      " 99/100 [============================>.] - ETA: 0s - loss: 0.2976 - acc: 0.8973\n",
      "Epoch 00077: loss did not improve\n",
      "100/100 [==============================] - 10s 98ms/step - loss: 0.2976 - acc: 0.8972\n",
      "Epoch 78/100\n",
      " 99/100 [============================>.] - ETA: 0s - loss: 0.2946 - acc: 0.8961\n",
      "Epoch 00078: loss did not improve\n",
      "100/100 [==============================] - 10s 99ms/step - loss: 0.2946 - acc: 0.8960\n",
      "Epoch 79/100\n",
      " 99/100 [============================>.] - ETA: 0s - loss: 0.2910 - acc: 0.8985\n",
      "Epoch 00079: loss did not improve\n",
      "100/100 [==============================] - 10s 100ms/step - loss: 0.2910 - acc: 0.8985\n",
      "Epoch 80/100\n",
      " 99/100 [============================>.] - ETA: 0s - loss: 0.2521 - acc: 0.9177\n",
      "Epoch 00080: loss did not improve\n",
      "100/100 [==============================] - 10s 101ms/step - loss: 0.2518 - acc: 0.9178\n",
      "Epoch 81/100\n",
      " 99/100 [============================>.] - ETA: 0s - loss: 0.2250 - acc: 0.9285\n",
      "Epoch 00081: loss improved from 0.24142 to 0.22513, saving model to unet.hdf5\n",
      "100/100 [==============================] - 10s 101ms/step - loss: 0.2251 - acc: 0.9284\n",
      "Epoch 82/100\n",
      " 99/100 [============================>.] - ETA: 0s - loss: 0.2393 - acc: 0.9225\n",
      "Epoch 00082: loss did not improve\n",
      "100/100 [==============================] - 10s 98ms/step - loss: 0.2392 - acc: 0.9225\n",
      "Epoch 83/100\n",
      " 99/100 [============================>.] - ETA: 0s - loss: 0.2473 - acc: 0.9181\n",
      "Epoch 00083: loss did not improve\n",
      "100/100 [==============================] - 10s 99ms/step - loss: 0.2478 - acc: 0.9179\n",
      "Epoch 84/100\n",
      " 99/100 [============================>.] - ETA: 0s - loss: 0.2621 - acc: 0.9126\n",
      "Epoch 00084: loss did not improve\n",
      "100/100 [==============================] - 10s 99ms/step - loss: 0.2621 - acc: 0.9127\n",
      "Epoch 85/100\n",
      " 99/100 [============================>.] - ETA: 0s - loss: 0.2460 - acc: 0.9180\n",
      "Epoch 00085: loss did not improve\n",
      "100/100 [==============================] - 10s 99ms/step - loss: 0.2460 - acc: 0.9179\n",
      "Epoch 86/100\n",
      " 99/100 [============================>.] - ETA: 0s - loss: 0.2711 - acc: 0.9065\n",
      "Epoch 00086: loss did not improve\n",
      "100/100 [==============================] - 10s 99ms/step - loss: 0.2710 - acc: 0.9066\n",
      "Epoch 87/100\n",
      " 99/100 [============================>.] - ETA: 0s - loss: 0.2553 - acc: 0.9140\n",
      "Epoch 00087: loss did not improve\n",
      "100/100 [==============================] - 10s 99ms/step - loss: 0.2551 - acc: 0.9141\n",
      "Epoch 88/100\n",
      " 99/100 [============================>.] - ETA: 0s - loss: 0.2450 - acc: 0.9196\n",
      "Epoch 00088: loss did not improve\n",
      "100/100 [==============================] - 10s 99ms/step - loss: 0.2450 - acc: 0.9196\n",
      "Epoch 89/100\n",
      " 99/100 [============================>.] - ETA: 0s - loss: 0.2372 - acc: 0.9223\n",
      "Epoch 00089: loss did not improve\n",
      "100/100 [==============================] - 10s 100ms/step - loss: 0.2374 - acc: 0.9223\n",
      "Epoch 90/100\n",
      " 99/100 [============================>.] - ETA: 0s - loss: 0.2265 - acc: 0.9253- ETA: 1s - loss: 0.2271 - a\n",
      "Epoch 00090: loss did not improve\n",
      "100/100 [==============================] - 10s 99ms/step - loss: 0.2266 - acc: 0.9253\n",
      "Epoch 91/100\n",
      " 99/100 [============================>.] - ETA: 0s - loss: 0.2195 - acc: 0.9292\n",
      "Epoch 00091: loss improved from 0.22513 to 0.21959, saving model to unet.hdf5\n",
      "100/100 [==============================] - 10s 100ms/step - loss: 0.2196 - acc: 0.9292\n",
      "Epoch 92/100\n",
      " 99/100 [============================>.] - ETA: 0s - loss: 0.2544 - acc: 0.9141\n",
      "Epoch 00092: loss did not improve\n",
      "100/100 [==============================] - 10s 99ms/step - loss: 0.2545 - acc: 0.9141\n",
      "Epoch 93/100\n",
      " 99/100 [============================>.] - ETA: 0s - loss: 0.2626 - acc: 0.9097\n",
      "Epoch 00093: loss did not improve\n",
      "100/100 [==============================] - 10s 99ms/step - loss: 0.2626 - acc: 0.9097\n",
      "Epoch 94/100\n",
      " 99/100 [============================>.] - ETA: 0s - loss: 0.2440 - acc: 0.9183\n",
      "Epoch 00094: loss did not improve\n",
      "100/100 [==============================] - 10s 99ms/step - loss: 0.2439 - acc: 0.9184\n",
      "Epoch 95/100\n",
      " 99/100 [============================>.] - ETA: 0s - loss: 0.2340 - acc: 0.9225\n",
      "Epoch 00095: loss did not improve\n",
      "100/100 [==============================] - 10s 99ms/step - loss: 0.2339 - acc: 0.9225\n",
      "Epoch 96/100\n",
      " 99/100 [============================>.] - ETA: 0s - loss: 0.2377 - acc: 0.9201\n",
      "Epoch 00096: loss did not improve\n",
      "100/100 [==============================] - 10s 99ms/step - loss: 0.2379 - acc: 0.9200\n",
      "Epoch 97/100\n",
      " 99/100 [============================>.] - ETA: 0s - loss: 0.2459 - acc: 0.9168\n",
      "Epoch 00097: loss did not improve\n",
      "100/100 [==============================] - 10s 99ms/step - loss: 0.2459 - acc: 0.9168\n",
      "Epoch 98/100\n",
      " 99/100 [============================>.] - ETA: 0s - loss: 0.2620 - acc: 0.9096\n",
      "Epoch 00098: loss did not improve\n",
      "100/100 [==============================] - 10s 99ms/step - loss: 0.2623 - acc: 0.9095\n",
      "Epoch 99/100\n",
      " 99/100 [============================>.] - ETA: 0s - loss: 0.2891 - acc: 0.8930- E\n",
      "Epoch 00099: loss did not improve\n",
      "100/100 [==============================] - 10s 99ms/step - loss: 0.2891 - acc: 0.8930\n",
      "Epoch 100/100\n",
      " 99/100 [============================>.] - ETA: 0s - loss: 0.2774 - acc: 0.9038\n",
      "Epoch 00100: loss did not improve\n",
      "100/100 [==============================] - 10s 99ms/step - loss: 0.2774 - acc: 0.9038\n"
     ]
    },
    {
     "data": {
      "text/plain": [
       "<keras.callbacks.History at 0x7f6fe926f890>"
      ]
     },
     "execution_count": 200,
     "metadata": {},
     "output_type": "execute_result"
    }
   ],
   "source": [
    "model_checkpoint = ModelCheckpoint('unet.hdf5', monitor='loss',verbose=1, save_best_only=True)\n",
    "print('Fitting model...')\n",
    "model.fit_generator(train_generator, nb_epoch=100,steps_per_epoch=100, verbose=1, shuffle=True, callbacks=[model_checkpoint])"
   ]
  },
  {
   "cell_type": "code",
   "execution_count": 7,
   "metadata": {},
   "outputs": [
    {
     "name": "stdout",
     "output_type": "stream",
     "text": [
      "Fitting model...\n"
     ]
    },
    {
     "name": "stderr",
     "output_type": "stream",
     "text": [
      "/usr/local/lib/python2.7/dist-packages/ipykernel_launcher.py:3: UserWarning: The `nb_epoch` argument in `fit` has been renamed `epochs`.\n",
      "  This is separate from the ipykernel package so we can avoid doing imports until\n"
     ]
    },
    {
     "name": "stdout",
     "output_type": "stream",
     "text": [
      "Train on 90 samples, validate on 10 samples\n",
      "Epoch 1/10\n",
      "89/90 [============================>.] - ETA: 0s - loss: 0.6940 - acc: 0.6587\n",
      "Epoch 00001: loss improved from inf to 0.69396, saving model to unet.hdf5\n",
      "90/90 [==============================] - 11s 125ms/step - loss: 0.6940 - acc: 0.6604 - val_loss: 0.6904 - val_acc: 0.8123\n",
      "Epoch 2/10\n",
      "89/90 [============================>.] - ETA: 0s - loss: 0.6885 - acc: 0.8389\n",
      "Epoch 00002: loss improved from 0.69396 to 0.68846, saving model to unet.hdf5\n",
      "90/90 [==============================] - 9s 104ms/step - loss: 0.6885 - acc: 0.8390 - val_loss: 0.6863 - val_acc: 0.8430\n",
      "Epoch 3/10\n",
      "89/90 [============================>.] - ETA: 0s - loss: 0.6678 - acc: 0.8677\n",
      "Epoch 00003: loss improved from 0.68846 to 0.66761, saving model to unet.hdf5\n",
      "90/90 [==============================] - 9s 102ms/step - loss: 0.6676 - acc: 0.8679 - val_loss: 0.6508 - val_acc: 0.8918\n",
      "Epoch 4/10\n",
      "89/90 [============================>.] - ETA: 0s - loss: 0.6441 - acc: 0.8975\n",
      "Epoch 00004: loss improved from 0.66761 to 0.64403, saving model to unet.hdf5\n",
      "90/90 [==============================] - 9s 103ms/step - loss: 0.6440 - acc: 0.8976 - val_loss: 0.6409 - val_acc: 0.9018\n",
      "Epoch 5/10\n",
      "89/90 [============================>.] - ETA: 0s - loss: 0.6375 - acc: 0.9032\n",
      "Epoch 00005: loss improved from 0.64403 to 0.63751, saving model to unet.hdf5\n",
      "90/90 [==============================] - 9s 102ms/step - loss: 0.6375 - acc: 0.9032 - val_loss: 0.6348 - val_acc: 0.9053\n",
      "Epoch 6/10\n",
      "89/90 [============================>.] - ETA: 0s - loss: 0.6316 - acc: 0.9069\n",
      "Epoch 00006: loss improved from 0.63751 to 0.63154, saving model to unet.hdf5\n",
      "90/90 [==============================] - 9s 102ms/step - loss: 0.6315 - acc: 0.9069 - val_loss: 0.6282 - val_acc: 0.9099\n",
      "Epoch 7/10\n",
      "89/90 [============================>.] - ETA: 0s - loss: 0.6252 - acc: 0.9104\n",
      "Epoch 00007: loss improved from 0.63154 to 0.62515, saving model to unet.hdf5\n",
      "90/90 [==============================] - 9s 103ms/step - loss: 0.6252 - acc: 0.9104 - val_loss: 0.6222 - val_acc: 0.9130\n",
      "Epoch 8/10\n",
      "89/90 [============================>.] - ETA: 0s - loss: 0.6194 - acc: 0.9130\n",
      "Epoch 00008: loss improved from 0.62515 to 0.61940, saving model to unet.hdf5\n",
      "90/90 [==============================] - 9s 104ms/step - loss: 0.6194 - acc: 0.9130 - val_loss: 0.6166 - val_acc: 0.9156\n",
      "Epoch 9/10\n",
      "89/90 [============================>.] - ETA: 0s - loss: 0.6147 - acc: 0.9150\n",
      "Epoch 00009: loss improved from 0.61940 to 0.61465, saving model to unet.hdf5\n",
      "90/90 [==============================] - 9s 104ms/step - loss: 0.6147 - acc: 0.9150 - val_loss: 0.6133 - val_acc: 0.9162\n",
      "Epoch 10/10\n",
      "89/90 [============================>.] - ETA: 0s - loss: 0.6102 - acc: 0.9168\n",
      "Epoch 00010: loss improved from 0.61465 to 0.61022, saving model to unet.hdf5\n",
      "90/90 [==============================] - 9s 103ms/step - loss: 0.6102 - acc: 0.9169 - val_loss: 0.6083 - val_acc: 0.9186\n"
     ]
    },
    {
     "data": {
      "text/plain": [
       "<keras.callbacks.History at 0x7f705a2f29d0>"
      ]
     },
     "execution_count": 7,
     "metadata": {},
     "output_type": "execute_result"
    }
   ],
   "source": [
    "model_checkpoint = ModelCheckpoint('unet.hdf5', monitor='loss',verbose=1, save_best_only=True)\n",
    "print('Fitting model...')\n",
    "model.fit(X, Y, batch_size=1, nb_epoch=10, verbose=1,validation_split=0.1, shuffle=True, callbacks=[model_checkpoint])"
   ]
  },
  {
   "cell_type": "code",
   "execution_count": 201,
   "metadata": {},
   "outputs": [],
   "source": [
    "test = train_generator.next()\n",
    "X_Test = test[0][0:10]\n",
    "Y_Test = test[1][0:10]\n"
   ]
  },
  {
   "cell_type": "code",
   "execution_count": 203,
   "metadata": {},
   "outputs": [
    {
     "data": {
      "text/plain": [
       "((1, 1, 480, 640), (5, 1, 480, 640))"
      ]
     },
     "execution_count": 203,
     "metadata": {},
     "output_type": "execute_result"
    }
   ],
   "source": [
    "np.shape(X_Test),np.shape(imgs_mask_test)"
   ]
  },
  {
   "cell_type": "code",
   "execution_count": 244,
   "metadata": {},
   "outputs": [],
   "source": [
    "imgs_mask_test = model.predict_on_batch(X_Test)"
   ]
  },
  {
   "cell_type": "code",
   "execution_count": 249,
   "metadata": {},
   "outputs": [
    {
     "data": {
      "text/plain": [
       "<matplotlib.image.AxesImage at 0x7f6fe662cf50>"
      ]
     },
     "execution_count": 249,
     "metadata": {},
     "output_type": "execute_result"
    },
    {
     "data": {
      "image/png": "[encoded data removed]",
      "text/plain": [
       "<matplotlib.figure.Figure at 0x7f6fe6693050>"
      ]
     },
     "metadata": {},
     "output_type": "display_data"
    }
   ],
   "source": [
    "index = np.random.randint(3)\n",
    "img = np.reshape(imgs_mask_test[1],(img_height,img_width))\n",
    "plt.imshow(img)"
   ]
  },
  {
   "cell_type": "code",
   "execution_count": 248,
   "metadata": {},
   "outputs": [
    {
     "data": {
      "text/plain": [
       "<matplotlib.image.AxesImage at 0x7f6fe66c1590>"
      ]
     },
     "execution_count": 248,
     "metadata": {},
     "output_type": "execute_result"
    },
    {
     "data": {
      "image/png": "[encoded data removed]",
      "text/plain": [
       "<matplotlib.figure.Figure at 0x7f6fe6739490>"
      ]
     },
     "metadata": {},
     "output_type": "display_data"
    }
   ],
   "source": [
    "img = np.reshape(Y_Test[0],(img_height,img_width))\n",
    "plt.imshow(img)"
   ]
  },
  {
   "cell_type": "code",
   "execution_count": 169,
   "metadata": {},
   "outputs": [],
   "source": [
    "train = train_generator.next()\n",
    "X = train[0]\n",
    "Y = train[1]\n",
    "inputs = Input((1,img_height, img_width))"
   ]
  },
  {
   "cell_type": "code",
   "execution_count": 171,
   "metadata": {},
   "outputs": [
    {
     "name": "stdout",
     "output_type": "stream",
     "text": [
      "_________________________________________________________________\n",
      "Layer (type)                 Output Shape              Param #   \n",
      "=================================================================\n",
      "input_2 (InputLayer)         (None, 1, 480, 640)       0         \n",
      "_________________________________________________________________\n",
      "conv2d_85 (Conv2D)           (None, 32, 480, 640)      832       \n",
      "_________________________________________________________________\n",
      "conv2d_86 (Conv2D)           (None, 64, 480, 640)      51264     \n",
      "_________________________________________________________________\n",
      "conv2d_87 (Conv2D)           (None, 32, 480, 640)      51232     \n",
      "_________________________________________________________________\n",
      "conv2d_88 (Conv2D)           (None, 16, 480, 640)      4624      \n",
      "_________________________________________________________________\n",
      "conv2d_89 (Conv2D)           (None, 4, 480, 640)       580       \n",
      "_________________________________________________________________\n",
      "conv2d_90 (Conv2D)           (None, 1, 480, 640)       37        \n",
      "=================================================================\n",
      "Total params: 108,569\n",
      "Trainable params: 108,569\n",
      "Non-trainable params: 0\n",
      "_________________________________________________________________\n",
      "None\n"
     ]
    },
    {
     "name": "stderr",
     "output_type": "stream",
     "text": [
      "/usr/local/lib/python2.7/dist-packages/ipykernel_launcher.py:15: UserWarning: Update your `Model` call to the Keras 2 API: `Model(outputs=Tensor(\"co..., inputs=Tensor(\"in...)`\n",
      "  from ipykernel import kernelapp as app\n"
     ]
    }
   ],
   "source": [
    "conv1 = Conv2D(32, 5, activation = 'relu', padding = 'same', kernel_initializer = 'he_normal',data_format='channels_first')(inputs)\n",
    "\n",
    "conv2 = Conv2D(64, 5, activation = 'relu', padding = 'same', kernel_initializer = 'he_normal',data_format='channels_first')(conv1)\n",
    "\n",
    "conv3 = Conv2D(32, 5, activation = 'relu', padding = 'same', kernel_initializer = 'he_normal',data_format='channels_first')(conv2)\n",
    "\n",
    "conv4 = Conv2D(16, 3, activation = 'relu', padding = 'same', kernel_initializer = 'he_normal',data_format='channels_first')(conv3)\n",
    "#drop4 = Dropout(0.5)(conv4)\n",
    "\n",
    "conv5 = Conv2D(4, 3, activation = 'relu', padding = 'same', kernel_initializer = 'he_normal',data_format='channels_first')(conv4)\n",
    "\n",
    "conv6 = Conv2D(1, 3, activation = 'relu', padding = 'same', kernel_initializer = 'he_normal',data_format='channels_first')(conv5)\n",
    "#drop5 = Dropout(0.5)(conv5)\n",
    "\n",
    "model1 = Model(input = inputs, output = conv6)\n",
    "print model1.summary()\n",
    "model1.compile(optimizer = optimizers.Adam(lr = 1e-4), loss = 'binary_crossentropy', metrics = ['accuracy'])"
   ]
  },
  {
   "cell_type": "code",
   "execution_count": 217,
   "metadata": {},
   "outputs": [
    {
     "name": "stdout",
     "output_type": "stream",
     "text": [
      "Fitting model...\n",
      "Epoch 1/10\n",
      "\r",
      "  1/100 [..............................] - ETA: 13s - loss: 0.3969 - acc: 0.8304"
     ]
    },
    {
     "name": "stderr",
     "output_type": "stream",
     "text": [
      "/usr/local/lib/python2.7/dist-packages/ipykernel_launcher.py:3: UserWarning: The semantics of the Keras 2 argument `steps_per_epoch` is not the same as the Keras 1 argument `samples_per_epoch`. `steps_per_epoch` is the number of batches to draw from the generator at each epoch. Basically steps_per_epoch = samples_per_epoch/batch_size. Similarly `nb_val_samples`->`validation_steps` and `val_samples`->`steps` arguments have changed. Update your method calls accordingly.\n",
      "  This is separate from the ipykernel package so we can avoid doing imports until\n",
      "/usr/local/lib/python2.7/dist-packages/ipykernel_launcher.py:3: UserWarning: Update your `fit_generator` call to the Keras 2 API: `fit_generator(<itertools..., shuffle=True, verbose=1, steps_per_epoch=100, epochs=10, callbacks=[<keras.ca...)`\n",
      "  This is separate from the ipykernel package so we can avoid doing imports until\n"
     ]
    },
    {
     "name": "stdout",
     "output_type": "stream",
     "text": [
      " 99/100 [============================>.] - ETA: 0s - loss: 0.3890 - acc: 0.8321\n",
      "Epoch 00001: loss improved from inf to 0.38894, saving model to unet.hdf5\n",
      "100/100 [==============================] - 10s 100ms/step - loss: 0.3889 - acc: 0.8322\n",
      "Epoch 2/10\n",
      " 99/100 [============================>.] - ETA: 0s - loss: 0.3845 - acc: 0.8345\n",
      "Epoch 00002: loss improved from 0.38894 to 0.38439, saving model to unet.hdf5\n",
      "100/100 [==============================] - 10s 97ms/step - loss: 0.3844 - acc: 0.8345\n",
      "Epoch 3/10\n",
      " 99/100 [============================>.] - ETA: 0s - loss: 0.3850 - acc: 0.8282\n",
      "Epoch 00003: loss did not improve\n",
      "100/100 [==============================] - 10s 97ms/step - loss: 0.3851 - acc: 0.8281\n",
      "Epoch 4/10\n",
      " 99/100 [============================>.] - ETA: 0s - loss: 0.3777 - acc: 0.8301\n",
      "Epoch 00004: loss improved from 0.38439 to 0.37768, saving model to unet.hdf5\n",
      "100/100 [==============================] - 10s 98ms/step - loss: 0.3777 - acc: 0.8301\n",
      "Epoch 5/10\n",
      " 99/100 [============================>.] - ETA: 0s - loss: 0.3708 - acc: 0.8475- ETA: 1s - loss: 0.\n",
      "Epoch 00005: loss improved from 0.37768 to 0.37074, saving model to unet.hdf5\n",
      "100/100 [==============================] - 10s 98ms/step - loss: 0.3707 - acc: 0.8476\n",
      "Epoch 6/10\n",
      " 99/100 [============================>.] - ETA: 0s - loss: 0.3437 - acc: 0.8569\n",
      "Epoch 00006: loss improved from 0.37074 to 0.34374, saving model to unet.hdf5\n",
      "100/100 [==============================] - 10s 98ms/step - loss: 0.3437 - acc: 0.8569\n",
      "Epoch 7/10\n",
      " 99/100 [============================>.] - ETA: 0s - loss: 0.3555 - acc: 0.8448\n",
      "Epoch 00007: loss did not improve\n",
      "100/100 [==============================] - 10s 98ms/step - loss: 0.3555 - acc: 0.8447\n",
      "Epoch 8/10\n",
      " 99/100 [============================>.] - ETA: 0s - loss: 0.3555 - acc: 0.8361- ETA: 1s - loss: 0.\n",
      "Epoch 00008: loss did not improve\n",
      "100/100 [==============================] - 10s 98ms/step - loss: 0.3554 - acc: 0.8361\n",
      "Epoch 9/10\n",
      " 99/100 [============================>.] - ETA: 0s - loss: 0.3503 - acc: 0.8382\n",
      "Epoch 00009: loss did not improve\n",
      "100/100 [==============================] - 10s 99ms/step - loss: 0.3502 - acc: 0.8382\n",
      "Epoch 10/10\n",
      " 99/100 [============================>.] - ETA: 0s - loss: 0.3471 - acc: 0.8389\n",
      "Epoch 00010: loss did not improve\n",
      "100/100 [==============================] - 10s 98ms/step - loss: 0.3470 - acc: 0.8389\n"
     ]
    },
    {
     "data": {
      "text/plain": [
       "<keras.callbacks.History at 0x7f6fe6bdc6d0>"
      ]
     },
     "execution_count": 217,
     "metadata": {},
     "output_type": "execute_result"
    }
   ],
   "source": [
    "model_checkpoint = ModelCheckpoint('unet.hdf5', monitor='loss',verbose=1, save_best_only=True)\n",
    "print('Fitting model...')\n",
    "model1.fit_generator(train_generator, steps_per_epoch=100,nb_epoch=10, verbose=1, shuffle=True, callbacks=[model_checkpoint])"
   ]
  },
  {
   "cell_type": "code",
   "execution_count": 229,
   "metadata": {},
   "outputs": [],
   "source": [
    "test = train_generator.next()\n",
    "X_Test = test[0][0:50]\n",
    "Y_Test = test[1][0:50]"
   ]
  },
  {
   "cell_type": "code",
   "execution_count": 232,
   "metadata": {},
   "outputs": [
    {
     "data": {
      "text/plain": [
       "((1, 1, 480, 640), (1, 1, 480, 640))"
      ]
     },
     "execution_count": 232,
     "metadata": {},
     "output_type": "execute_result"
    }
   ],
   "source": [
    "np.shape(X_Test),np.shape(imgs_mask_test)"
   ]
  },
  {
   "cell_type": "code",
   "execution_count": 236,
   "metadata": {},
   "outputs": [],
   "source": [
    "imgs_mask_test = model1.predict_on_batch(X_Test)"
   ]
  },
  {
   "cell_type": "code",
   "execution_count": 241,
   "metadata": {},
   "outputs": [],
   "source": [
    "%matplotlib inline"
   ]
  },
  {
   "cell_type": "code",
   "execution_count": 242,
   "metadata": {},
   "outputs": [
    {
     "data": {
      "text/plain": [
       "<matplotlib.image.AxesImage at 0x7f6fe71e6290>"
      ]
     },
     "execution_count": 242,
     "metadata": {},
     "output_type": "execute_result"
    },
    {
     "data": {
      "image/png": "[encoded data removed]",
      "text/plain": [
       "<matplotlib.figure.Figure at 0x7f6fe694d2d0>"
      ]
     },
     "metadata": {},
     "output_type": "display_data"
    }
   ],
   "source": [
    "index = np.random.randint(10)\n",
    "img = np.reshape(imgs_mask_test,(img_height,img_width))\n",
    "plt.imshow(img)"
   ]
  },
  {
   "cell_type": "code",
   "execution_count": null,
   "metadata": {},
   "outputs": [],
   "source": []
  }
 ],
 "metadata": {
  "kernelspec": {
   "display_name": "Python 2",
   "language": "python",
   "name": "python2"
  },
  "language_info": {
   "codemirror_mode": {
    "name": "ipython",
    "version": 2
   },
   "file_extension": ".py",
   "mimetype": "text/x-python",
   "name": "python",
   "nbconvert_exporter": "python",
   "pygments_lexer": "ipython2",
   "version": "2.7.12"
  }
 },
 "nbformat": 4,
 "nbformat_minor": 2
}
